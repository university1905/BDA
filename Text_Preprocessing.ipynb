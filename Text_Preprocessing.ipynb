{
 "cells": [
  {
   "cell_type": "code",
   "execution_count": 2,
   "id": "a59bc43b",
   "metadata": {},
   "outputs": [],
   "source": [
    "# importing all the necessary libraries\n",
    "import numpy as np\n",
    "import nltk\n",
    "from nltk.tokenize import sent_tokenize, word_tokenize\n",
    "from nltk.stem import WordNetLemmatizer\n",
    "from nltk.corpus import stopwords, wordnet\n",
    "import pandas as pd\n",
    "import string\n"
   ]
  },
  {
   "cell_type": "markdown",
   "id": "6fd393f1",
   "metadata": {},
   "source": [
    "READING THE FIRST 6 ARTICLES FROM THE DATASET "
   ]
  },
  {
   "cell_type": "code",
   "execution_count": 3,
   "id": "15ff1bdd",
   "metadata": {
    "scrolled": true
   },
   "outputs": [
    {
     "data": {
      "text/html": [
       "<div>\n",
       "<style scoped>\n",
       "    .dataframe tbody tr th:only-of-type {\n",
       "        vertical-align: middle;\n",
       "    }\n",
       "\n",
       "    .dataframe tbody tr th {\n",
       "        vertical-align: top;\n",
       "    }\n",
       "\n",
       "    .dataframe thead th {\n",
       "        text-align: right;\n",
       "    }\n",
       "</style>\n",
       "<table border=\"1\" class=\"dataframe\">\n",
       "  <thead>\n",
       "    <tr style=\"text-align: right;\">\n",
       "      <th></th>\n",
       "      <th>ARTICLE_ID</th>\n",
       "      <th>SECTION_TEXT</th>\n",
       "    </tr>\n",
       "  </thead>\n",
       "  <tbody>\n",
       "    <tr>\n",
       "      <th>0</th>\n",
       "      <td>0</td>\n",
       "      <td>'' 'Anarchism '' political philosophy advocate...</td>\n",
       "    </tr>\n",
       "    <tr>\n",
       "      <th>1</th>\n",
       "      <td>1</td>\n",
       "      <td>'' 'Autism '' neurodevelopmental disorder char...</td>\n",
       "    </tr>\n",
       "    <tr>\n",
       "      <th>2</th>\n",
       "      <td>2</td>\n",
       "      <td>Percentage diffusely reflected sunlight relati...</td>\n",
       "    </tr>\n",
       "    <tr>\n",
       "      <th>3</th>\n",
       "      <td>3</td>\n",
       "      <td>Writing cursive forms '' '' named plural `` ''...</td>\n",
       "    </tr>\n",
       "    <tr>\n",
       "      <th>4</th>\n",
       "      <td>4</td>\n",
       "      <td>'' 'Alabama '' state southeastern region Unite...</td>\n",
       "    </tr>\n",
       "  </tbody>\n",
       "</table>\n",
       "</div>"
      ],
      "text/plain": [
       "   ARTICLE_ID                                       SECTION_TEXT\n",
       "0           0  '' 'Anarchism '' political philosophy advocate...\n",
       "1           1  '' 'Autism '' neurodevelopmental disorder char...\n",
       "2           2  Percentage diffusely reflected sunlight relati...\n",
       "3           3  Writing cursive forms '' '' named plural `` ''...\n",
       "4           4  '' 'Alabama '' state southeastern region Unite..."
      ]
     },
     "execution_count": 3,
     "metadata": {},
     "output_type": "execute_result"
    }
   ],
   "source": [
    "# reading the data as a DataFrame\n",
    "df = pd.read_csv(\"enwiki-20170820.csv\", nrows= 90)\n",
    "df.head()"
   ]
  },
  {
   "cell_type": "code",
   "execution_count": 4,
   "id": "ad3f44fe",
   "metadata": {},
   "outputs": [],
   "source": [
    "# drop_columns = ['TITLE','SECTION_TITLE']\n",
    "# df.drop(drop_columns, axis=1, inplace=True)\n",
    "\n",
    "#the columns have already been dropped "
   ]
  },
  {
   "cell_type": "markdown",
   "id": "8719df4c",
   "metadata": {},
   "source": [
    "Preprocessing the Dataset"
   ]
  },
  {
   "cell_type": "code",
   "execution_count": 6,
   "id": "28ff6ca6",
   "metadata": {
    "scrolled": true
   },
   "outputs": [],
   "source": [
    "# Initialize lemmatizer and stopwords\n",
    "lemmatizer = WordNetLemmatizer()\n",
    "stop_words = set(stopwords.words('english'))\n",
    "\n",
    "# Function to preprocess text\n",
    "def preprocess_text(text):\n",
    "    if isinstance(text, str):  # Check if the text is a string\n",
    "        # Tokenize text\n",
    "        tokens = word_tokenize(text)\n",
    "        \n",
    "        # Remove punctuation, non-alphabetic characters, and single characters\n",
    "        tokens = [word.lower() for word in tokens if word.isalpha() and len(word) > 1]\n",
    "        \n",
    "        # Remove stopwords\n",
    "        tokens = [word for word in tokens if word not in stop_words]\n",
    "        \n",
    "        # Lemmatize English words\n",
    "        tokens = [lemmatizer.lemmatize(word) if wordnet.synsets(word) else word for word in tokens]\n",
    "        \n",
    "        return tokens\n",
    "    else:\n",
    "        return []  # Return an empty list if the input is not a string\n",
    "\n",
    "df['cleaned_words'] = df['SECTION_TEXT'].apply(preprocess_text)\n",
    "\n"
   ]
  },
  {
   "cell_type": "markdown",
   "id": "6056e2d1",
   "metadata": {},
   "source": [
    "Making a Vocabulary.txt File and assigning each word a unique ID"
   ]
  },
  {
   "cell_type": "code",
   "execution_count": 7,
   "id": "dcd40151",
   "metadata": {},
   "outputs": [],
   "source": [
    "# Initialize global index counter\n",
    "index_counter = 0\n",
    "\n",
    "# Function to extract unique words and assign IDs after lemmatizing the text\n",
    "def extract_unique_words(text, language='english'):\n",
    "    global index_counter\n",
    "    lemmatizer = WordNetLemmatizer()\n",
    "    words = word_tokenize(text)\n",
    "    unique_words = set([lemmatizer.lemmatize(word.lower()) for word in words])\n",
    "    word_id_mapping = {}\n",
    "    for word in sorted(unique_words):\n",
    "        word_id_mapping[word] = str(index_counter)\n",
    "        index_counter += 1\n",
    "    return word_id_mapping\n",
    "\n",
    "# Apply function to each row in the DataFrame\n",
    "word_id_mappings = df['SECTION_TEXT'].apply(extract_unique_words)\n",
    "\n",
    "# Combine word_id_mappings from all rows\n",
    "combined_word_id_mapping = {}\n",
    "for word_id_mapping in word_id_mappings:\n",
    "    combined_word_id_mapping.update(word_id_mapping)\n",
    "\n",
    "# Write to Vocabulary.txt in ascending order\n",
    "with open('Vocabulary.txt', 'w', encoding='utf-8') as file:\n",
    "    for word, idx in sorted(combined_word_id_mapping.items()):\n",
    "        file.write(f\"{word},{idx}\\n\")"
   ]
  }
 ],
 "metadata": {
  "kernelspec": {
   "display_name": "Python 3 (ipykernel)",
   "language": "python",
   "name": "python3"
  },
  "language_info": {
   "codemirror_mode": {
    "name": "ipython",
    "version": 3
   },
   "file_extension": ".py",
   "mimetype": "text/x-python",
   "name": "python",
   "nbconvert_exporter": "python",
   "pygments_lexer": "ipython3",
   "version": "3.11.4"
  }
 },
 "nbformat": 4,
 "nbformat_minor": 5
}
